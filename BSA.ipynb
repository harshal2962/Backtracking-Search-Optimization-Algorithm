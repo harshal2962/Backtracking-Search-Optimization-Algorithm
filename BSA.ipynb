{
  "nbformat": 4,
  "nbformat_minor": 0,
  "metadata": {
    "colab": {
      "name": "BSA.ipynb",
      "provenance": [],
      "collapsed_sections": [],
      "authorship_tag": "ABX9TyNm+4kKP2g/z7pXysatSrSn",
      "include_colab_link": true
    },
    "kernelspec": {
      "name": "python3",
      "display_name": "Python 3"
    }
  },
  "cells": [
    {
      "cell_type": "markdown",
      "metadata": {
        "id": "view-in-github",
        "colab_type": "text"
      },
      "source": [
        "<a href=\"https://colab.research.google.com/github/harshal2962/Backtracking-Search-Optimization-Algorithm/blob/main/BSA.ipynb\" target=\"_parent\"><img src=\"https://colab.research.google.com/assets/colab-badge.svg\" alt=\"Open In Colab\"/></a>"
      ]
    },
    {
      "cell_type": "code",
      "metadata": {
        "id": "Q2Kf3H_nPieE"
      },
      "source": [
        "import numpy as np\r\n",
        "import random as rn\r\n",
        "import math\r\n",
        "# BSA parameters\r\n",
        "pop_number = 100\r\n",
        "# dim- dimensions of search space\r\n",
        "dim = 2\r\n",
        "pop_size = (pop_number, dim)\r\n",
        "dim_rate=70\r\n",
        "# manipulate high and low boundaries of search space as per problem statement\r\n",
        "low = (0.01, 0.01) \r\n",
        "high = (35000, 32) \r\n",
        "epoch = 50\r\n",
        "globalminimum =np.zeros(epoch)"
      ],
      "execution_count": null,
      "outputs": []
    },
    {
      "cell_type": "code",
      "metadata": {
        "id": "0I8c4zD5Pnf3"
      },
      "source": [
        "#  Population generation\r\n",
        "def population_generation(low, high, pop_size):\r\n",
        "  population = np.random.uniform(low, high, pop_size)\r\n",
        "  return population"
      ],
      "execution_count": null,
      "outputs": []
    },
    {
      "cell_type": "code",
      "metadata": {
        "id": "L5JmQ-m2Pit9"
      },
      "source": [
        "# Boundary control\r\n",
        "def Boundary_control(offsprings):\r\n",
        "  for i in range(pop_number):\r\n",
        "    for j in range(dim):\r\n",
        "      k = rn.random() < rn.random()\r\n",
        "      if offsprings[i][j] < low[j]:\r\n",
        "        if k:\r\n",
        "          offsprings[i][j] = low[j]\r\n",
        "        else:\r\n",
        "          offsprings[i][j] = np.random.uniform(low[j], high[j])\r\n",
        "      if offsprings[i][j] > high[j]:\r\n",
        "        if k:\r\n",
        "          offsprings[i][j] = high[j]\r\n",
        "        else:\r\n",
        "          offsprings[i][j] = np.random.uniform(low[j], high[j])\r\n",
        "  return offsprings"
      ],
      "execution_count": null,
      "outputs": []
    },
    {
      "cell_type": "code",
      "metadata": {
        "id": "2VdP5On7Psjo"
      },
      "source": [
        "# Initilaization\r\n",
        "pop = population_generation(low, high, pop_size)\r\n",
        "##fitness_pop = call function\r\n",
        "historical_pop = population_generation(low, high, pop_size)"
      ],
      "execution_count": null,
      "outputs": []
    },
    {
      "cell_type": "code",
      "metadata": {
        "id": "bgeDHdb_PSuZ"
      },
      "source": [
        "for epk in range(epoch):\r\n",
        "  # Selection 1\r\n",
        "  if rn.random() < rn.random():\r\n",
        "    historical_pop = pop\r\n",
        "  historical_pop = historical_pop[np.random.permutation(pop_number),:]\r\n",
        "  F = 3*np.random.randn()\r\n",
        "  map = np.zeros((pop_number,dim), dtype=int)\r\n",
        "  if rn.random() < rn.random():\r\n",
        "    for i in range(pop_number):\r\n",
        "      u = np.random.permutation(dim)\r\n",
        "      map[i][u[1:math.ceil(dim_rate*rn.random()*dim)]] = 1\r\n",
        "  else:\r\n",
        "    for i in range(pop_number):\r\n",
        "      map[i][rn.randrange(1,dim+1)-1] = 1\r\n",
        "  \r\n",
        "  # Recombination (Mutation + Crossover) \r\n",
        "  offsprings = pop+(map*F)*(historical_pop-pop)\r\n",
        "\r\n",
        "  # Call boundary control\r\n",
        "  offspring = Boundary_control(offsprings)\r\n",
        "\r\n",
        "  # Selection 2\r\n",
        "  ##fitness_offsprings = call function\r\n",
        "  indices = fitness_offsprings - fitness_pop\r\n",
        "  indices = [i for i in range(pop_number) if indices[i][0]<0] \r\n",
        "  fitness_pop[indices]=fitness_offsprings[indices]\r\n",
        "  pop[indices,:]=offsprings[indices,:]\r\n",
        "  globalminimum[epk]=min(fitness_pop)\r\n",
        "  globalminimizer=pop[indices,:]"
      ],
      "execution_count": null,
      "outputs": []
    },
    {
      "cell_type": "code",
      "metadata": {
        "id": "w6Yza82_QHU1"
      },
      "source": [
        "print(globalminimum)"
      ],
      "execution_count": null,
      "outputs": []
    },
    {
      "cell_type": "code",
      "metadata": {
        "id": "VhFetrX4QLzW"
      },
      "source": [
        "print(globalminimizer)"
      ],
      "execution_count": null,
      "outputs": []
    }
  ]
}
